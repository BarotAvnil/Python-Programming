{
 "cells": [
  {
   "cell_type": "markdown",
   "metadata": {},
   "source": [
    "<a href='https://www.darshan.ac.in/'> <img src='https://www.darshan.ac.in/Content/media/DU_Logo.svg' width=\"250\" height=\"10\"/></a>\n",
    "<pre>\n",
    "<center><b><h1>Python Programming - 2301CS404</b></center>\n",
    "<center><b><h1>Lab - 1</b></center>    \n",
    "<pre>"
   ]
  },
  {
   "cell_type": "markdown",
   "metadata": {},
   "source": [
    "### 01) WAP to print “Hello World”"
   ]
  },
  {
   "cell_type": "code",
   "execution_count": null,
   "metadata": {},
   "outputs": [],
   "source": [
    "print('Hello World')"
   ]
  },
  {
   "cell_type": "markdown",
   "metadata": {},
   "source": [
    "### 02) WAP to print addition of two numbers with and without using input()."
   ]
  },
  {
   "cell_type": "code",
   "execution_count": 4,
   "metadata": {},
   "outputs": [
    {
     "name": "stdout",
     "output_type": "stream",
     "text": [
      "Sum is  30\n",
      "Enter X :-5\n",
      "Enter Y:-10\n",
      "Sum of X and Y is  15\n"
     ]
    }
   ],
   "source": [
    "a = 10\n",
    "b = 20\n",
    "print(\"Sum is \",a + b)\n",
    "\n",
    "x = input(\"Enter X :-\")\n",
    "y = input(\"Enter Y:-\")\n",
    "\n",
    "print(\"Sum of X and Y is \",x+y)"
   ]
  },
  {
   "cell_type": "markdown",
   "metadata": {},
   "source": [
    "### 03) WAP to check the type of the variable."
   ]
  },
  {
   "cell_type": "code",
   "execution_count": 14,
   "metadata": {},
   "outputs": [
    {
     "name": "stdout",
     "output_type": "stream",
     "text": [
      "<class 'int'>\n",
      "<class 'float'>\n",
      "<class 'str'>\n"
     ]
    }
   ],
   "source": [
    "a = 10\n",
    "b = 0.252\n",
    "str = \"abc\"\n",
    "\n",
    "print(type(a))\n",
    "print(type(b))\n",
    "print(type(str))"
   ]
  },
  {
   "cell_type": "markdown",
   "metadata": {},
   "source": [
    "### 04) WAP to calculate simple interest."
   ]
  },
  {
   "cell_type": "code",
   "execution_count": 16,
   "metadata": {},
   "outputs": [
    {
     "name": "stdout",
     "output_type": "stream",
     "text": [
      "Enter Principle : 10000\n",
      "Enter rate : 5\n",
      "Enter time : 2\n",
      "1000.0\n"
     ]
    }
   ],
   "source": [
    "p = float(input('Enter Principle : '))\n",
    "r = float(input('Enter rate : '))\n",
    "t = float(input('Enter time : '))\n",
    "\n",
    "ans = (p * r * t) / 100\n",
    "print(ans)\n"
   ]
  },
  {
   "cell_type": "markdown",
   "metadata": {},
   "source": [
    "### 05) WAP to calculate area and perimeter of a circle."
   ]
  },
  {
   "cell_type": "code",
   "execution_count": 21,
   "metadata": {},
   "outputs": [
    {
     "name": "stdout",
     "output_type": "stream",
     "text": [
      "Enter Radius5\n",
      "Area is 78.5\n",
      "Perimeter is 31.400000000000002\n"
     ]
    }
   ],
   "source": [
    "r = float(input(\"Enter Radius\"))\n",
    "area = 3.14 * r * r\n",
    "print(\"Area is\", area)\n",
    "\n",
    "perimeter = 2* 3.14 * r\n",
    "print('Perimeter is',perimeter)"
   ]
  },
  {
   "cell_type": "markdown",
   "metadata": {},
   "source": [
    "### 06) WAP to calculate area of a triangle."
   ]
  },
  {
   "cell_type": "code",
   "execution_count": 23,
   "metadata": {},
   "outputs": [
    {
     "name": "stdout",
     "output_type": "stream",
     "text": [
      "Enter Base 5\n",
      "Enter Height 10\n",
      "Area is  25.0\n"
     ]
    }
   ],
   "source": [
    "base = float(input(\"Enter Base \"))\n",
    "height = float(input(\"Enter Height \"))\n",
    "area = (1/2)*base*height\n",
    "print(\"Area is \",area)"
   ]
  },
  {
   "cell_type": "markdown",
   "metadata": {},
   "source": [
    "### 07) WAP to compute quotient and remainder."
   ]
  },
  {
   "cell_type": "code",
   "execution_count": 25,
   "metadata": {},
   "outputs": [
    {
     "name": "stdout",
     "output_type": "stream",
     "text": [
      "2\n",
      "1\n"
     ]
    }
   ],
   "source": [
    "a = 5\n",
    "b = 2\n",
    "print(\"Quotient :-\"a//b)\n",
    "print(\"Remainder :-\"a%b)"
   ]
  },
  {
   "cell_type": "markdown",
   "metadata": {},
   "source": [
    "### 08) WAP to convert degree into Fahrenheit and vice versa."
   ]
  },
  {
   "cell_type": "code",
   "execution_count": 28,
   "metadata": {},
   "outputs": [
    {
     "name": "stdout",
     "output_type": "stream",
     "text": [
      "Enter temp in F 150\n",
      "Enter temp in C 150\n",
      "temp in fahr 302.0\n",
      "temp in celc 65.55555555555556\n"
     ]
    }
   ],
   "source": [
    "F = float(input(\"Enter temp in F \"))\n",
    "C = float(input(\"Enter temp in C \"))\n",
    "fahr = (C*9/5)+32\n",
    "celc = (F-32)*(5/9)\n",
    "print(\"temp in fahr\",fahr)\n",
    "print(\"temp in celc\",celc)\n",
    "\n"
   ]
  },
  {
   "cell_type": "markdown",
   "metadata": {},
   "source": [
    "### 09) WAP to find the distance between two points in 2-D space."
   ]
  },
  {
   "cell_type": "code",
   "execution_count": 29,
   "metadata": {},
   "outputs": [
    {
     "name": "stdout",
     "output_type": "stream",
     "text": [
      "Enter value of X1 :-1\n",
      "Enter value of X2 :-2\n",
      "Enter value of Y1 :-3\n",
      "Enter value of Y2 :-4\n",
      "Distance is  1.4142135623730951\n"
     ]
    }
   ],
   "source": [
    "import math\n",
    "x1 = int(input(\"Enter value of X1 :-\"))\n",
    "x2 = int(input(\"Enter value of X2 :-\"))\n",
    "y1 = int(input(\"Enter value of Y1 :-\"))\n",
    "y2 = int(input(\"Enter value of Y2 :-\"))\n",
    "dis = math.sqrt((x2-x1)**2+(y2-y1)**2)\n",
    "print(\"Distance is \",dis)"
   ]
  },
  {
   "cell_type": "markdown",
   "metadata": {},
   "source": [
    "### 10) WAP to print sum of n natural numbers."
   ]
  },
  {
   "cell_type": "code",
   "execution_count": 30,
   "metadata": {},
   "outputs": [
    {
     "name": "stdout",
     "output_type": "stream",
     "text": [
      "Enter value of n :5\n"
     ]
    },
    {
     "data": {
      "text/plain": [
       "15.0"
      ]
     },
     "execution_count": 30,
     "metadata": {},
     "output_type": "execute_result"
    }
   ],
   "source": [
    "n = int(input(\"Enter value of n :\"))\n",
    "(n*(n+1))/2"
   ]
  },
  {
   "cell_type": "markdown",
   "metadata": {},
   "source": [
    "### 11) WAP to print sum of square of n natural numbers."
   ]
  },
  {
   "cell_type": "code",
   "execution_count": null,
   "metadata": {},
   "outputs": [],
   "source": [
    "n = int(input(\"Enter value of n :\"))\n",
    "(n*(n+1)*(2*n+1)/6)"
   ]
  },
  {
   "cell_type": "markdown",
   "metadata": {},
   "source": [
    "### 12) WAP to concate the first and last name of the student."
   ]
  },
  {
   "cell_type": "code",
   "execution_count": 31,
   "metadata": {},
   "outputs": [
    {
     "name": "stdout",
     "output_type": "stream",
     "text": [
      "Avnil Barot\n"
     ]
    }
   ],
   "source": [
    "print(\"Avnil\", end = ' ')\n",
    "print(\"Barot\")"
   ]
  },
  {
   "cell_type": "markdown",
   "metadata": {},
   "source": [
    "### 13) WAP to swap two numbers."
   ]
  },
  {
   "cell_type": "code",
   "execution_count": 39,
   "metadata": {},
   "outputs": [
    {
     "name": "stdout",
     "output_type": "stream",
     "text": [
      "Enter A 10\n",
      "Enter B 20\n",
      "After swap number a is 20 and b is 10 \n"
     ]
    }
   ],
   "source": [
    "a = int(input(\"Enter A \"))\n",
    "b = int(input(\"Enter B \"))\n",
    "a,b = b,a\n",
    "print(f\"After swap number a is {a} and b is {b} \")\n"
   ]
  },
  {
   "cell_type": "markdown",
   "metadata": {},
   "source": [
    "### 14) WAP to get the distance from user into kilometer, and convert it into meter, feet, inches and centimeter."
   ]
  },
  {
   "cell_type": "code",
   "execution_count": 43,
   "metadata": {},
   "outputs": [
    {
     "name": "stdout",
     "output_type": "stream",
     "text": [
      "Enter distance i Km 10\n",
      "In meter =  10000.0\n",
      "In feet =  32808.4\n",
      "In inches =  393701.0\n",
      "In centimeter =  1000000.0\n"
     ]
    }
   ],
   "source": [
    "dis_km = float(input(\"Enter distance in Km \"))\n",
    "meter = dis_km*1000\n",
    "feet = dis_km*3280.84\n",
    "inches = dis_km*39370.1\n",
    "cm = dis_km*100000\n",
    "print(\"In meter = \",meter)\n",
    "print(\"In feet = \",feet)\n",
    "print(\"In inches = \",inches)\n",
    "print(\"In centimeter = \",cm)\n"
   ]
  },
  {
   "cell_type": "markdown",
   "metadata": {},
   "source": [
    "### 15) WAP to get day, month and year from the user and print the date in the given format: 23-11-2024."
   ]
  },
  {
   "cell_type": "code",
   "execution_count": 44,
   "metadata": {},
   "outputs": [
    {
     "name": "stdout",
     "output_type": "stream",
     "text": [
      "Enter Date23\n",
      "Enter month11\n",
      "Enter year2024\n",
      "23 - 11 - 2024\n"
     ]
    }
   ],
   "source": [
    "date = int(input(\"Enter Date\"))\n",
    "month = int(input(\"Enter month\"))\n",
    "year = int(input(\"Enter year\"))\n",
    "print(date,\"-\",month,\"-\",year)"
   ]
  },
  {
   "cell_type": "code",
   "execution_count": null,
   "metadata": {},
   "outputs": [],
   "source": []
  }
 ],
 "metadata": {
  "kernelspec": {
   "display_name": "Python 3 (ipykernel)",
   "language": "python",
   "name": "python3"
  },
  "language_info": {
   "codemirror_mode": {
    "name": "ipython",
    "version": 3
   },
   "file_extension": ".py",
   "mimetype": "text/x-python",
   "name": "python",
   "nbconvert_exporter": "python",
   "pygments_lexer": "ipython3",
   "version": "3.10.9"
  },
  "vscode": {
   "interpreter": {
    "hash": "31f2aee4e71d21fbe5cf8b01ff0e069b9275f58929596ceb00d14d90e3e16cd6"
   }
  }
 },
 "nbformat": 4,
 "nbformat_minor": 4
}
