{
 "cells": [
  {
   "cell_type": "markdown",
   "metadata": {},
   "source": [
    "\n",
    "<a href='https://www.darshan.ac.in/'> <img src='https://www.darshan.ac.in/Content/media/DU_Logo.svg' width=\"250\" height=\"300\"/></a>\n",
    "<pre>\n",
    "<center><b><h1>Python Programming - 2301CS404</b></center>\n",
    "<center><b><h1>Lab - 2</b></center>\n",
    "<pre>"
   ]
  },
  {
   "cell_type": "markdown",
   "metadata": {},
   "source": [
    "# if..else.."
   ]
  },
  {
   "cell_type": "markdown",
   "metadata": {},
   "source": [
    "### 01) WAP to check whether the given number is positive or negative."
   ]
  },
  {
   "cell_type": "code",
   "execution_count": 2,
   "metadata": {},
   "outputs": [
    {
     "name": "stdout",
     "output_type": "stream",
     "text": [
      "Enter a Number :: -5\n",
      "Number is Negative\n"
     ]
    }
   ],
   "source": [
    "n = int(input(\"Enter a Number :: \"))\n",
    "if (n >= 0):\n",
    "    print(\"Number is Positive\")\n",
    "else :\n",
    "    print(\"Number is Negative\")"
   ]
  },
  {
   "cell_type": "markdown",
   "metadata": {},
   "source": [
    "### 02) WAP to check whether the given number is odd or even."
   ]
  },
  {
   "cell_type": "code",
   "execution_count": 21,
   "metadata": {},
   "outputs": [
    {
     "name": "stdout",
     "output_type": "stream",
     "text": [
      "Enter a Number :: 5\n",
      "Number is Odd\n"
     ]
    }
   ],
   "source": [
    "n = int(input(\"Enter a Number :: \"))\n",
    "if (n % 2 == 0):\n",
    "    print(\"Number is Even\")\n",
    "else :\n",
    "    print(\"Number is Odd\")"
   ]
  },
  {
   "cell_type": "markdown",
   "metadata": {},
   "source": [
    "### 03) WAP to find out largest number from given two numbers using simple if and ternary operator."
   ]
  },
  {
   "cell_type": "code",
   "execution_count": 10,
   "metadata": {},
   "outputs": [
    {
     "name": "stdout",
     "output_type": "stream",
     "text": [
      "Enter 1st Number :: 5\n",
      "Enter 2nd Number :: 10\n",
      "Largest Number is 10\n",
      "Enter 1st Number :: 5\n",
      "Enter 2nd Number :: 10\n",
      "n2 is Larger !\n"
     ]
    }
   ],
   "source": [
    "# Using If..Else.\n",
    "n1 = int(input(\"Enter 1st Number :: \"))\n",
    "n2 = int(input(\"Enter 2nd Number :: \"))\n",
    "if(n1 > n2):\n",
    "    print(\"Largest Number is\",n1)\n",
    "else : \n",
    "    print(\"Largest Number is\",n2)\n",
    " \n",
    "#Using Ternary Operator\n",
    "n1 = int(input(\"Enter 1st Number :: \"))\n",
    "n2 = int(input(\"Enter 2nd Number :: \"))\n",
    "a = \"n1 is Larger !\" if n1 > n2 else \"n2 is Larger !\"\n",
    "print(a)"
   ]
  },
  {
   "cell_type": "markdown",
   "metadata": {},
   "source": [
    "### 04) WAP to find out largest number from given three numbers."
   ]
  },
  {
   "cell_type": "code",
   "execution_count": 12,
   "metadata": {},
   "outputs": [
    {
     "name": "stdout",
     "output_type": "stream",
     "text": [
      "Enter 1st Number :: 5\n",
      "Enter 2nd Number :: 10\n",
      "Enter 3rd Number :: 15\n",
      "Largest Number is 15\n"
     ]
    }
   ],
   "source": [
    "n1 = int(input(\"Enter 1st Number :: \"))\n",
    "n2 = int(input(\"Enter 2nd Number :: \"))\n",
    "n3 = int(input(\"Enter 3rd Number :: \"))\n",
    "if (n1 > n2) :\n",
    "    if (n2 > n3) :\n",
    "        print(\"Largest Number is\",n1)\n",
    "    else :\n",
    "        print(\"Largest Number is\",n2)\n",
    "else :\n",
    "    if (n2 > n3) :\n",
    "        print(\"Largest Number is\",n2)\n",
    "    else :\n",
    "        print(\"Largest Number is\",n3)"
   ]
  },
  {
   "cell_type": "markdown",
   "metadata": {},
   "source": [
    "### 05) WAP to check whether the given year is leap year or not.\n",
    "[If a year can be divisible by 4 but not divisible by 100 then it is leap year but if it is divisible by 400 then it is leap year]"
   ]
  },
  {
   "cell_type": "code",
   "execution_count": 20,
   "metadata": {},
   "outputs": [
    {
     "name": "stdout",
     "output_type": "stream",
     "text": [
      "Enter a Year :: 2023\n",
      "Entered Year is not a Leap Year\n"
     ]
    }
   ],
   "source": [
    "year = int(input(\"Enter a Year :: \"))\n",
    "\n",
    "if ((year % 4 == 0 and year % 100 != 0) or year % 400 == 0) :\n",
    "    print(\"Entered Year is Leap Year\")\n",
    "else :\n",
    "    print(\"Entered Year is not a Leap Year\")\n",
    "    \n",
    "    "
   ]
  },
  {
   "cell_type": "markdown",
   "metadata": {},
   "source": [
    "### 06) WAP in python to display the name of the day according to the number given by the user."
   ]
  },
  {
   "cell_type": "markdown",
   "metadata": {},
   "source": [
    "### 07) WAP to implement simple calculator which performs (add,sub,mul,div) of two no. based on user input."
   ]
  },
  {
   "cell_type": "code",
   "execution_count": 18,
   "metadata": {},
   "outputs": [
    {
     "name": "stdout",
     "output_type": "stream",
     "text": [
      "Enter 1st Number :: 5\n",
      "Enter 2nd Number :: 10\n",
      "Enter a Operator :: *\n",
      "Multiplication is : 50\n"
     ]
    }
   ],
   "source": [
    "n1 = int(input(\"Enter 1st Number :: \"))\n",
    "n2 = int(input(\"Enter 2nd Number :: \"))\n",
    "opr = input(\"Enter a Operator :: \")\n",
    "if (opr == '+') :\n",
    "    print(\"Addition is :\",n1 + n2)\n",
    "elif (opr == '-') :\n",
    "    print(\"Substraction is :\", n1 - n2)\n",
    "elif (opr == '/') :\n",
    "    print(\"Division is :\",n1 / n2)\n",
    "elif (opr == '*') :\n",
    "    print(\"Multiplication is :\",n1 * n2)\n",
    "else :\n",
    "    print(\"Invalid Operator\")"
   ]
  },
  {
   "cell_type": "markdown",
   "metadata": {},
   "source": [
    "### 08) WAP to read marks of five subjects. Calculate percentage and print class accordingly. \n",
    "Fail below 35 </br>\n",
    "Pass Class between 35 to 45 </br>\n",
    "Second Class</br>\n",
    "between 45 to 60</br>\n",
    "First Class between 60 to 70</br> \n",
    "Distinction if more than 70"
   ]
  },
  {
   "cell_type": "code",
   "execution_count": 22,
   "metadata": {},
   "outputs": [
    {
     "name": "stdout",
     "output_type": "stream",
     "text": [
      "Enter Marks of 1st Subject :: 5\n",
      "Enter Marks of 2nd Subject :: 5\n",
      "Enter Marks of 3rd Subject :: 5\n",
      "Enter Marks of 4th Subject :: 5\n",
      "Enter Marks of 5th Subject :: 5\n",
      "Fail !\n"
     ]
    }
   ],
   "source": [
    "s1 = int(input(\"Enter Marks of 1st Subject :: \"))\n",
    "s2 = int(input(\"Enter Marks of 2nd Subject :: \"))\n",
    "s3 = int(input(\"Enter Marks of 3rd Subject :: \"))\n",
    "s4 = int(input(\"Enter Marks of 4th Subject :: \"))\n",
    "s5 = int(input(\"Enter Marks of 5th Subject :: \"))\n",
    "result = ((s1 + s2 + s3 + s4 + s5) / 500) * 100\n",
    "\n",
    "if (result < 35) :\n",
    "    print(\"Fail !\")\n",
    "elif (result>=35 and result<45) :\n",
    "    print(\"Pass Class\")\n",
    "elif (result >=45 and result<60) :\n",
    "    print(\"Second Class\")\n",
    "elif (result>=60 and result<70) :\n",
    "    print(\"First Class\")\n",
    "else :\n",
    "    print(\"Distinction\")\n"
   ]
  },
  {
   "cell_type": "markdown",
   "metadata": {},
   "source": [
    "# 09) Three sides of a triangle are entered through the keyboard, WAP to check whether the triangle is isosceles, equilateral, scalene or right-angled triangle."
   ]
  },
  {
   "cell_type": "code",
   "execution_count": 24,
   "metadata": {},
   "outputs": [
    {
     "name": "stdout",
     "output_type": "stream",
     "text": [
      "Enter the 1st Side of Triangle :: 5\n",
      "Enter the 2nd Side of Triangle :: 5\n",
      "Enter the 3rd Side of Triangle :: 5\n",
      "Triangle is Equilateral.\n"
     ]
    }
   ],
   "source": [
    "a= int(input(\"Enter the 1st Side of Triangle :: \"))\n",
    "b=int(input(\"Enter the 2nd Side of Triangle :: \"))\n",
    "c=int(input(\"Enter the 3rd Side of Triangle :: \"))\n",
    "\n",
    "if (s1 + s2 > s3 and s1 + s3 > s2 and s2 + s3 > s1) :\n",
    "    if (a == b == c) :\n",
    "        print(\"Triangle is Equilateral.\")\n",
    "    elif (a == b or b == c or a == c) :\n",
    "        print(\"Triangle is Isosceles.\")\n",
    "    elif (a ** 2 + b ** 2 == c ** 2 or a ** 2 + c ** 2 == b ** 2 or b ** 2 + c ** 2 == a ** 2) :\n",
    "        print(\"Triangle is Right Angled.\")\n",
    "    else :\n",
    "        print(\"Triangle is Scalene.\")\n",
    "else :\n",
    "    print(\"Invalid Sides\")\n"
   ]
  },
  {
   "cell_type": "code",
   "execution_count": 15,
   "metadata": {},
   "outputs": [
    {
     "name": "stdout",
     "output_type": "stream",
     "text": [
      "Enter Day in Number (1-7) :: 5\n",
      "Thursday\n"
     ]
    }
   ],
   "source": [
    "n = int(input(\"Enter Day in Number (1-7) :: \"))\n",
    "if(n == 1) :\n",
    "    print(\"Sunday\")\n",
    "elif (n == 2) :\n",
    "    print(\"Monday\")\n",
    "elif (n == 3) :\n",
    "    print(\"Tuesday\")\n",
    "elif (n == 4) :\n",
    "    print(\"Wednesday\")\n",
    "elif (n == 5) :\n",
    "    print(\"Thursday\")\n",
    "elif (n == 6) :\n",
    "    print(\"Friday\")\n",
    "elif (n == 7) :\n",
    "    print(\"Saturday\")\n",
    "else :\n",
    "    print(\"Enter Valid Number !\")\n"
   ]
  },
  {
   "cell_type": "markdown",
   "metadata": {},
   "source": [
    "### 10) WAP to find the second largest number among three user input numbers."
   ]
  },
  {
   "cell_type": "code",
   "execution_count": 25,
   "metadata": {},
   "outputs": [
    {
     "name": "stdout",
     "output_type": "stream",
     "text": [
      "Enter the first number: 5\n",
      "Enter the second number: 10\n",
      "Enter the third number: 15\n",
      "Second number is second largest\n"
     ]
    }
   ],
   "source": [
    "a = int(input('Enter the first number: '))\n",
    "b = int(input('Enter the second number: '))\n",
    "c = int(input('Enter the third number: '))\n",
    "\n",
    "if (a > b and a < c):\n",
    "    print('First number is second largest')\n",
    "elif (b > a and b < c):\n",
    "    print('Second number is second largest')\n",
    "else:\n",
    "    print('Third number is second largest')"
   ]
  },
  {
   "cell_type": "markdown",
   "metadata": {},
   "source": [
    "### 11) WAP to calculate electricity bill based on following criteria. Which takes the unit from the user.\n",
    "a. First 1 to 50 units – Rs. 2.60/unit</br>\n",
    "b. Next 50 to 100 units – Rs. 3.25/unit</br>\n",
    "c. Next 100 to 200 units – Rs. 5.26/unit</br>\n",
    "d. above 200 units – Rs. 8.45/unit"
   ]
  },
  {
   "cell_type": "code",
   "execution_count": 26,
   "metadata": {},
   "outputs": [
    {
     "name": "stdout",
     "output_type": "stream",
     "text": [
      "Enter the number of units: 25\n",
      "Your electricity bill is 65.0\n"
     ]
    }
   ],
   "source": [
    "units = int(input('Enter the number of units: '))\n",
    "case = 0\n",
    "if units > 0 and units < 50:\n",
    "    case = 1\n",
    "elif units >= 50 and units < 100:\n",
    "    case = 2\n",
    "elif units >= 100 and units < 200:\n",
    "    case = 3\n",
    "elif units > 200:\n",
    "    case = 4\n",
    "rate = 0\n",
    "match case:\n",
    "    case 1:\n",
    "        rate = units * 2.6\n",
    "        print(f'Your electricity bill is {rate}')\n",
    "    case 2:\n",
    "        rate = (50 * 2.6) + ((units - 50) * 3.25)\n",
    "        print(f'Your electricity bill is {rate}')\n",
    "    case 3:\n",
    "        rate = (50 * 2.6) + (50 * 3.25) + ((units - 100) * 5.26)\n",
    "        print(f'Your electricity bill is {rate}')\n",
    "    case 4:\n",
    "        rate = (50 * 2.6) + (50 * 3.25) + (100 * 5.26) + ((units - 200) * 8.45)\n",
    "        print(f'Your electricity bill is {rate}')"
   ]
  }
 ],
 "metadata": {
  "kernelspec": {
   "display_name": "Python 3 (ipykernel)",
   "language": "python",
   "name": "python3"
  },
  "language_info": {
   "codemirror_mode": {
    "name": "ipython",
    "version": 3
   },
   "file_extension": ".py",
   "mimetype": "text/x-python",
   "name": "python",
   "nbconvert_exporter": "python",
   "pygments_lexer": "ipython3",
   "version": "3.10.9"
  }
 },
 "nbformat": 4,
 "nbformat_minor": 4
}
